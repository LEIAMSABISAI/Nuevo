{
 "cells": [
  {
   "cell_type": "markdown",
   "id": "a4e5c5b2-12f3-4982-a0ba-966f18638266",
   "metadata": {},
   "source": [
    "# Linear regression\n",
    "A linear regression model prediction: \n",
    "$y=\\theta_0 x_0+\\theta_1 x_1+\\theta_2 x_2+ ...$\n",
    "\n",
    "para obtener el parámetro:\n",
    "\n",
    "$\\hat{\\theta}=(X^T X)^{-1}X^T y$"
   ]
  },
  {
   "cell_type": "markdown",
   "id": "5368120c-fbac-490d-971d-9a25ab0cd0a2",
   "metadata": {},
   "source": [
    "# A basic example\n",
    "\n",
    "First try to implemente the linear regressor by only using two instances, thus:\n",
    "\n",
    "$$\\hat{y}=\\theta_0 + \\theta_1 x_1$$\n",
    "\n",
    "\n",
    "$$\n",
    "    y_1=\n",
    "    \\begin{bmatrix}\n",
    "    \\theta_0 & \\theta_1\n",
    "    \\end{bmatrix} \n",
    "    \\begin{bmatrix}\n",
    "    1 \\\\ \n",
    "    x_1\n",
    "    \\end{bmatrix}\n",
    "$$"
   ]
  },
  {
   "cell_type": "markdown",
   "id": "46532eda-0138-4482-b9aa-215e1720efb2",
   "metadata": {},
   "source": [
    "Now, we need a matricial form to manage al data:\n",
    "\n",
    "$$\n",
    "    \\begin{bmatrix}\n",
    "    y_0 \\\\ \n",
    "    y_1\\\\\n",
    "    \\vdots\n",
    "    \\end{bmatrix}\n",
    "    =\n",
    "    \\begin{bmatrix}\n",
    "    \\theta_0 + \\theta_1 x_1 \\\\\n",
    "    \\theta_0 + \\theta_1 x_2 \\\\\n",
    "    \\vdots\n",
    "    \\end{bmatrix}\n",
    "$$"
   ]
  },
  {
   "cell_type": "markdown",
   "id": "f8aea57a-aa32-4607-9822-caddc5eb3bdf",
   "metadata": {},
   "source": [
    "$$\n",
    "    \\begin{bmatrix}\n",
    "    y_0 \\\\ \n",
    "    y_1\\\\\n",
    "    \\vdots\n",
    "    \\end{bmatrix}\n",
    "    =\n",
    "    \\begin{bmatrix}\n",
    "    1 &  x_1 \\\\\n",
    "    1 &  x_2 \\\\\n",
    "    \\vdots & \\vdots\n",
    "    \\end{bmatrix}\n",
    "    \\begin{bmatrix}\n",
    "    \\theta_0 \\\\\n",
    "    \\theta_1 \\\\\n",
    "    \\end{bmatrix}\n",
    "$$"
   ]
  },
  {
   "cell_type": "code",
   "execution_count": 19,
   "id": "2bb15fa2-bf45-437b-a656-a011f98a457e",
   "metadata": {},
   "outputs": [
    {
     "data": {
      "text/plain": [
       "array([[1.000e+00, 1.000e-03],\n",
       "       [1.000e+00, 2.196e+00]])"
      ]
     },
     "execution_count": 19,
     "metadata": {},
     "output_type": "execute_result"
    }
   ],
   "source": [
    "import numpy as np\n",
    "X = np.array([[1,0.001],[1, 2.196]])\n",
    "y = np.array([4.314825, 10.877373])\n",
    "X"
   ]
  },
  {
   "cell_type": "code",
   "execution_count": 20,
   "id": "6259d32b-0aa5-45c7-a90d-657666cf768b",
   "metadata": {},
   "outputs": [
    {
     "data": {
      "text/plain": [
       "(2, 2)"
      ]
     },
     "execution_count": 20,
     "metadata": {},
     "output_type": "execute_result"
    }
   ],
   "source": [
    "X.T.shape"
   ]
  },
  {
   "cell_type": "code",
   "execution_count": 9,
   "id": "e0d3f5c4-0739-4308-ae88-355debc19ff7",
   "metadata": {},
   "outputs": [
    {
     "data": {
      "text/plain": [
       "(2,)"
      ]
     },
     "execution_count": 9,
     "metadata": {},
     "output_type": "execute_result"
    }
   ],
   "source": [
    "y.shape"
   ]
  },
  {
   "cell_type": "code",
   "execution_count": 21,
   "id": "8a893ad1-f633-4c75-ad4a-14bf72d3a162",
   "metadata": {},
   "outputs": [
    {
     "data": {
      "text/plain": [
       "array([4.31183523, 2.9897713 ])"
      ]
     },
     "execution_count": 21,
     "metadata": {},
     "output_type": "execute_result"
    }
   ],
   "source": [
    "theta =  np.linalg.inv(X.T.dot(X)).dot(X.T).dot(y)\n",
    "theta"
   ]
  },
  {
   "cell_type": "code",
   "execution_count": null,
   "id": "a652586d-6881-48c1-b481-b2b360d21ec1",
   "metadata": {},
   "outputs": [],
   "source": []
  },
  {
   "cell_type": "code",
   "execution_count": 1,
   "id": "03eda23c-4ac7-40cf-aa2f-06dac5dafc6b",
   "metadata": {},
   "outputs": [
    {
     "name": "stdout",
     "output_type": "stream",
     "text": [
      "          X          y\n",
      "0     0.001   4.314825\n",
      "1     0.002   4.398001\n",
      "2     0.003   4.288719\n",
      "3     0.004   4.523691\n",
      "4     0.005   4.519217\n",
      "...     ...        ...\n",
      "2191  2.192  11.566848\n",
      "2192  2.193  11.090112\n",
      "2193  2.194  11.088024\n",
      "2194  2.195  10.728325\n",
      "2195  2.196  10.877373\n",
      "\n",
      "[2196 rows x 2 columns]\n"
     ]
    }
   ],
   "source": [
    "import pandas\n",
    "df = pandas.read_csv('data.csv')\n",
    "print(df)"
   ]
  },
  {
   "cell_type": "code",
   "execution_count": 2,
   "id": "ba1290b2-911b-4ab3-b22c-d4e2bbf48a16",
   "metadata": {},
   "outputs": [
    {
     "data": {
      "text/plain": [
       "(2196,)"
      ]
     },
     "execution_count": 2,
     "metadata": {},
     "output_type": "execute_result"
    }
   ],
   "source": [
    "import numpy as np\n",
    "X=df.values[:,0]\n",
    "y=df[\"y\"]\n",
    "X.shape"
   ]
  },
  {
   "cell_type": "code",
   "execution_count": 26,
   "id": "48d6c1dc-1972-4cb8-aafc-43dc4a955c01",
   "metadata": {},
   "outputs": [
    {
     "data": {
      "text/plain": [
       "3532.4200859999996"
      ]
     },
     "execution_count": 26,
     "metadata": {},
     "output_type": "execute_result"
    }
   ],
   "source": [
    "X.T.dot(X)"
   ]
  },
  {
   "cell_type": "code",
   "execution_count": 17,
   "id": "fe5b09e7-b5c7-4fe7-92f9-af06651829f8",
   "metadata": {},
   "outputs": [
    {
     "data": {
      "text/plain": [
       "array([1.000e-03, 2.000e-03, 3.000e-03, ..., 2.194e+00, 2.195e+00,\n",
       "       2.196e+00])"
      ]
     },
     "execution_count": 17,
     "metadata": {},
     "output_type": "execute_result"
    }
   ],
   "source": [
    "df.values[:,0]"
   ]
  },
  {
   "cell_type": "code",
   "execution_count": null,
   "id": "e89dfb2e-b4bd-47c3-8493-d62c34776b5b",
   "metadata": {},
   "outputs": [],
   "source": [
    "np.c_"
   ]
  },
  {
   "cell_type": "code",
   "execution_count": null,
   "id": "e5fb524c-302b-4a7e-9b16-2cab16f69869",
   "metadata": {},
   "outputs": [],
   "source": []
  },
  {
   "cell_type": "code",
   "execution_count": null,
   "id": "7187ed86-bccc-4a07-ab23-2bb1ea8adae4",
   "metadata": {},
   "outputs": [],
   "source": []
  },
  {
   "cell_type": "code",
   "execution_count": null,
   "id": "03793b6e-76f1-4dc5-bdf7-1649fa5ebbd4",
   "metadata": {},
   "outputs": [],
   "source": []
  },
  {
   "cell_type": "code",
   "execution_count": null,
   "id": "632614e0-7424-409c-a1c0-b7eab63d1e17",
   "metadata": {},
   "outputs": [],
   "source": []
  },
  {
   "cell_type": "code",
   "execution_count": null,
   "id": "d0dbdb70-e10e-4ab3-835f-c0a419842015",
   "metadata": {},
   "outputs": [],
   "source": []
  },
  {
   "cell_type": "code",
   "execution_count": null,
   "id": "01b6edf3-261f-4ebf-9299-da31f6324a5d",
   "metadata": {},
   "outputs": [],
   "source": []
  },
  {
   "cell_type": "code",
   "execution_count": 17,
   "id": "df0a2cb0-0847-4908-85ef-c50247cc8df9",
   "metadata": {},
   "outputs": [
    {
     "data": {
      "image/png": "[encoded data removed]",
      "text/plain": [
       "<Figure size 432x288 with 1 Axes>"
      ]
     },
     "metadata": {
      "needs_background": "light"
     },
     "output_type": "display_data"
    }
   ],
   "source": [
    "import numpy as np\n",
    "import matplotlib.pyplot as plt\n",
    "\n",
    "###############################\n",
    "#Datos originales\n",
    "###############################\n",
    "X = 2 * np.random.rand(100, 1)\n",
    "y = 4 + 3 * X + np.random.randn(100,1)\n",
    "\n",
    "plt.plot(X,y,\".\")\n",
    "###############################\n",
    "\n",
    "X_b = np.c_[np.ones((100,1)), X] #Se agrega x0=1 para cada instancia\n",
    "theta_best=np.linalg.inv(X_b.T.dot(X_b)).dot(X_b.T).dot(y)\n",
    "\n",
    "X_new = np.array([[0], [2]])\n",
    "X_new_b = np.c_[np.ones((2, 1)), X_new] #Se agrega x0=1 para cada instancia\n",
    "y_predict = X_new_b.dot(theta_best)\n",
    "\n",
    "plt.plot(X_new, y_predict, \"r-\")\n",
    "plt.plot(X, y, \"b.\")\n",
    "plt.axis([0, 2, 0, 15])\n",
    "plt.show()"
   ]
  },
  {
   "cell_type": "code",
   "execution_count": 18,
   "id": "745bb27e-cf7c-48ed-a699-e1d9c178e8fc",
   "metadata": {},
   "outputs": [
    {
     "data": {
      "text/plain": [
       "array([[4.15591878],\n",
       "       [2.78696452]])"
      ]
     },
     "execution_count": 18,
     "metadata": {},
     "output_type": "execute_result"
    }
   ],
   "source": [
    "theta_best"
   ]
  },
  {
   "cell_type": "code",
   "execution_count": 30,
   "id": "40b818ca-6c19-4186-9ab2-855b2ce74326",
   "metadata": {},
   "outputs": [
    {
     "data": {
      "text/plain": [
       "array([[1.        , 1.45644043],\n",
       "       [1.        , 0.67602852],\n",
       "       [1.        , 0.0945838 ],\n",
       "       [1.        , 1.89947229],\n",
       "       [1.        , 0.74671242],\n",
       "       [1.        , 1.93706306],\n",
       "       [1.        , 0.53800936],\n",
       "       [1.        , 1.70590754],\n",
       "       [1.        , 0.46849731],\n",
       "       [1.        , 0.63766683],\n",
       "       [1.        , 0.85327448],\n",
       "       [1.        , 0.42629412],\n",
       "       [1.        , 1.01012503],\n",
       "       [1.        , 1.45710918],\n",
       "       [1.        , 0.44805248],\n",
       "       [1.        , 0.54543232],\n",
       "       [1.        , 1.50684203],\n",
       "       [1.        , 0.11644278],\n",
       "       [1.        , 0.23994627],\n",
       "       [1.        , 1.66018199],\n",
       "       [1.        , 0.90703065],\n",
       "       [1.        , 1.6184485 ],\n",
       "       [1.        , 1.77063777],\n",
       "       [1.        , 1.61435981],\n",
       "       [1.        , 0.88569769],\n",
       "       [1.        , 1.97680527],\n",
       "       [1.        , 1.72831646],\n",
       "       [1.        , 1.7889696 ],\n",
       "       [1.        , 1.92589848],\n",
       "       [1.        , 1.40634486],\n",
       "       [1.        , 1.38776372],\n",
       "       [1.        , 1.04843364],\n",
       "       [1.        , 0.9212962 ],\n",
       "       [1.        , 1.94892494],\n",
       "       [1.        , 1.09391936],\n",
       "       [1.        , 0.76618074],\n",
       "       [1.        , 1.29714384],\n",
       "       [1.        , 1.81300715],\n",
       "       [1.        , 0.12474778],\n",
       "       [1.        , 0.37236002],\n",
       "       [1.        , 0.97129685],\n",
       "       [1.        , 0.04938158],\n",
       "       [1.        , 1.37731791],\n",
       "       [1.        , 1.11593637],\n",
       "       [1.        , 1.06137698],\n",
       "       [1.        , 0.73082364],\n",
       "       [1.        , 1.00692561],\n",
       "       [1.        , 0.64101459],\n",
       "       [1.        , 1.48833165],\n",
       "       [1.        , 0.31061842],\n",
       "       [1.        , 0.4299889 ],\n",
       "       [1.        , 0.01838099],\n",
       "       [1.        , 0.11393981],\n",
       "       [1.        , 1.69962046],\n",
       "       [1.        , 1.32437832],\n",
       "       [1.        , 1.82733314],\n",
       "       [1.        , 1.60062944],\n",
       "       [1.        , 0.38106192],\n",
       "       [1.        , 0.19811259],\n",
       "       [1.        , 0.00282977],\n",
       "       [1.        , 0.26412315],\n",
       "       [1.        , 1.95954228],\n",
       "       [1.        , 0.82020726],\n",
       "       [1.        , 0.39600115],\n",
       "       [1.        , 1.57117959],\n",
       "       [1.        , 1.3311471 ],\n",
       "       [1.        , 0.50419696],\n",
       "       [1.        , 0.47616736],\n",
       "       [1.        , 0.52559642],\n",
       "       [1.        , 0.2602211 ],\n",
       "       [1.        , 0.06409223],\n",
       "       [1.        , 0.04256476],\n",
       "       [1.        , 1.54343407],\n",
       "       [1.        , 0.38321908],\n",
       "       [1.        , 1.37504104],\n",
       "       [1.        , 0.09346712],\n",
       "       [1.        , 1.45653144],\n",
       "       [1.        , 0.28058142],\n",
       "       [1.        , 1.40543025],\n",
       "       [1.        , 0.04872238],\n",
       "       [1.        , 0.23420072],\n",
       "       [1.        , 0.31467905],\n",
       "       [1.        , 1.51173712],\n",
       "       [1.        , 0.15983785],\n",
       "       [1.        , 0.84685729],\n",
       "       [1.        , 1.148194  ],\n",
       "       [1.        , 1.80949514],\n",
       "       [1.        , 0.73604758],\n",
       "       [1.        , 1.28584328],\n",
       "       [1.        , 1.62955309],\n",
       "       [1.        , 1.53167289],\n",
       "       [1.        , 1.06218118],\n",
       "       [1.        , 0.31651968],\n",
       "       [1.        , 1.65860696],\n",
       "       [1.        , 0.3435539 ],\n",
       "       [1.        , 1.63326464],\n",
       "       [1.        , 1.54257488],\n",
       "       [1.        , 1.30255125],\n",
       "       [1.        , 1.5156252 ],\n",
       "       [1.        , 1.47812925]])"
      ]
     },
     "execution_count": 30,
     "metadata": {},
     "output_type": "execute_result"
    }
   ],
   "source": [
    "X_b"
   ]
  },
  {
   "cell_type": "code",
   "execution_count": 28,
   "id": "8577e9e2-e68a-4c8d-9651-f299f6f36d32",
   "metadata": {},
   "outputs": [
    {
     "data": {
      "text/plain": [
       "array([[1.45644043],\n",
       "       [0.67602852],\n",
       "       [0.0945838 ],\n",
       "       [1.89947229],\n",
       "       [0.74671242],\n",
       "       [1.93706306],\n",
       "       [0.53800936],\n",
       "       [1.70590754],\n",
       "       [0.46849731],\n",
       "       [0.63766683],\n",
       "       [0.85327448],\n",
       "       [0.42629412],\n",
       "       [1.01012503],\n",
       "       [1.45710918],\n",
       "       [0.44805248],\n",
       "       [0.54543232],\n",
       "       [1.50684203],\n",
       "       [0.11644278],\n",
       "       [0.23994627],\n",
       "       [1.66018199],\n",
       "       [0.90703065],\n",
       "       [1.6184485 ],\n",
       "       [1.77063777],\n",
       "       [1.61435981],\n",
       "       [0.88569769],\n",
       "       [1.97680527],\n",
       "       [1.72831646],\n",
       "       [1.7889696 ],\n",
       "       [1.92589848],\n",
       "       [1.40634486],\n",
       "       [1.38776372],\n",
       "       [1.04843364],\n",
       "       [0.9212962 ],\n",
       "       [1.94892494],\n",
       "       [1.09391936],\n",
       "       [0.76618074],\n",
       "       [1.29714384],\n",
       "       [1.81300715],\n",
       "       [0.12474778],\n",
       "       [0.37236002],\n",
       "       [0.97129685],\n",
       "       [0.04938158],\n",
       "       [1.37731791],\n",
       "       [1.11593637],\n",
       "       [1.06137698],\n",
       "       [0.73082364],\n",
       "       [1.00692561],\n",
       "       [0.64101459],\n",
       "       [1.48833165],\n",
       "       [0.31061842],\n",
       "       [0.4299889 ],\n",
       "       [0.01838099],\n",
       "       [0.11393981],\n",
       "       [1.69962046],\n",
       "       [1.32437832],\n",
       "       [1.82733314],\n",
       "       [1.60062944],\n",
       "       [0.38106192],\n",
       "       [0.19811259],\n",
       "       [0.00282977],\n",
       "       [0.26412315],\n",
       "       [1.95954228],\n",
       "       [0.82020726],\n",
       "       [0.39600115],\n",
       "       [1.57117959],\n",
       "       [1.3311471 ],\n",
       "       [0.50419696],\n",
       "       [0.47616736],\n",
       "       [0.52559642],\n",
       "       [0.2602211 ],\n",
       "       [0.06409223],\n",
       "       [0.04256476],\n",
       "       [1.54343407],\n",
       "       [0.38321908],\n",
       "       [1.37504104],\n",
       "       [0.09346712],\n",
       "       [1.45653144],\n",
       "       [0.28058142],\n",
       "       [1.40543025],\n",
       "       [0.04872238],\n",
       "       [0.23420072],\n",
       "       [0.31467905],\n",
       "       [1.51173712],\n",
       "       [0.15983785],\n",
       "       [0.84685729],\n",
       "       [1.148194  ],\n",
       "       [1.80949514],\n",
       "       [0.73604758],\n",
       "       [1.28584328],\n",
       "       [1.62955309],\n",
       "       [1.53167289],\n",
       "       [1.06218118],\n",
       "       [0.31651968],\n",
       "       [1.65860696],\n",
       "       [0.3435539 ],\n",
       "       [1.63326464],\n",
       "       [1.54257488],\n",
       "       [1.30255125],\n",
       "       [1.5156252 ],\n",
       "       [1.47812925]])"
      ]
     },
     "execution_count": 28,
     "metadata": {},
     "output_type": "execute_result"
    }
   ],
   "source": [
    "X"
   ]
  },
  {
   "cell_type": "code",
   "execution_count": null,
   "id": "f53fe03a-e0b1-4e28-9e3c-d5166c7d1828",
   "metadata": {},
   "outputs": [],
   "source": [
    "the"
   ]
  }
 ],
 "metadata": {
  "kernelspec": {
   "display_name": "Python 3 (ipykernel)",
   "language": "python",
   "name": "python3"
  },
  "language_info": {
   "codemirror_mode": {
    "name": "ipython",
    "version": 3
   },
   "file_extension": ".py",
   "mimetype": "text/x-python",
   "name": "python",
   "nbconvert_exporter": "python",
   "pygments_lexer": "ipython3",
   "version": "3.8.10"
  }
 },
 "nbformat": 4,
 "nbformat_minor": 5
}
